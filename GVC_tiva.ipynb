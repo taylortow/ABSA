{
 "cells": [
  {
   "cell_type": "markdown",
   "metadata": {},
   "source": [
    "# 基于TiVA数据的我国高科技行业全球价值链地位测算\n"
   ]
  },
  {
   "cell_type": "code",
   "execution_count": 1,
   "metadata": {},
   "outputs": [],
   "source": [
    "import numpy as np\n",
    "import pandas as pd\n",
    "%matplotlib inline\n",
    "import matplotlib.pyplot as plt\n",
    "import warnings; warnings.simplefilter('ignore') \n",
    "import xlrd\n",
    "import xlwt\n",
    "import matplotlib.pyplot as plt\n",
    "import seaborn as sns; \n",
    "%matplotlib inline"
   ]
  },
  {
   "cell_type": "code",
   "execution_count": 2,
   "metadata": {},
   "outputs": [],
   "source": [
    "data1=pd.read_excel('EXGR_D26T27.xlsx')\n",
    "data2=pd.read_excel('EXGR_DVA_D26T27.xlsx')\n",
    "data3=pd.read_excel('EXGR_IDC_D26T27.xlsx')\n",
    "data4=pd.read_excel('EXGR_RIM_D26T27.xlsx')\n",
    "data1.index=data1.iloc[:,0]\n",
    "data1.columns=data1.iloc[5,:]\n",
    "data1=data1.iloc[8:,2:]\n",
    "data1=data1.drop(index=['DXD: Domestic'])\n",
    "data2.index=data2.iloc[:,0]\n",
    "data2.columns=data2.iloc[5,:]\n",
    "data2=data2.iloc[7:,2:]\n",
    "data3.index=data3.iloc[:,0]\n",
    "data3.columns=data3.iloc[5,:]\n",
    "data3=data3.iloc[7:,2:]\n",
    "data4.index=data4.iloc[:,0]\n",
    "data4.columns=data4.iloc[5,:]\n",
    "data4=data4.iloc[7:,2:]"
   ]
  },
  {
   "cell_type": "code",
   "execution_count": 3,
   "metadata": {},
   "outputs": [],
   "source": [
    "index=data1.index\n",
    "columns=data1.columns"
   ]
  },
  {
   "cell_type": "code",
   "execution_count": 4,
   "metadata": {},
   "outputs": [],
   "source": [
    "FV=data2.loc['CHN: China (People\\'s Republic of)']\n",
    "IV=data3.loc['CHN: China (People\\'s Republic of)']+data4.loc['CHN: China (People\\'s Republic of)']\n",
    "E=data1.loc['CHN: China (People\\'s Republic of)']\n",
    "GVC_position=np.zeros((1,11))\n",
    "for i in range(11):\n",
    "    a1=FV[i]\n",
    "    a2=IV[i]\n",
    "    a3=E[i]\n",
    "    GVC_position[0][i]=np.log(1+a1/a3)+np.log(1+a2/a3)"
   ]
  },
  {
   "cell_type": "code",
   "execution_count": 5,
   "metadata": {},
   "outputs": [],
   "source": [
    "from datetime import datetime\n",
    "data5=pd.read_excel('Categorical_EPU_Data.xlsx')\n",
    "data5.index=data5.loc[:,'Date']\n",
    "data5.index = pd.to_datetime(data5.index)"
   ]
  },
  {
   "cell_type": "code",
   "execution_count": 6,
   "metadata": {},
   "outputs": [],
   "source": [
    "ts=data5['9. Trade policy']"
   ]
  },
  {
   "cell_type": "code",
   "execution_count": 7,
   "metadata": {},
   "outputs": [],
   "source": [
    "TPU=np.zeros((1,11))\n",
    "for i in range(2005,2016,1):\n",
    "    TPU[0][i-2005]=ts[str(i)].sum()\n",
    "    "
   ]
  },
  {
   "cell_type": "code",
   "execution_count": 8,
   "metadata": {},
   "outputs": [],
   "source": [
    "GVC_df=pd.DataFrame(GVC_position)\n",
    "TPU_df=pd.DataFrame(TPU)"
   ]
  },
  {
   "cell_type": "code",
   "execution_count": 12,
   "metadata": {},
   "outputs": [],
   "source": [
    "data_mix=pd.concat([GVC_df.T,TPU_df.T],axis=1)\n",
    "data_mix.columns=['GVC_position','TPU']\n",
    "data_mix=np.log(data_mix)"
   ]
  },
  {
   "cell_type": "code",
   "execution_count": 13,
   "metadata": {},
   "outputs": [
    {
     "data": {
      "text/plain": [
       "Text(0.5,1,'2 dimensions Plot')"
      ]
     },
     "execution_count": 13,
     "metadata": {},
     "output_type": "execute_result"
    },
    {
     "data": {
      "image/png": "[encoded data removed]",
      "text/plain": [
       "<Figure size 432x288 with 1 Axes>"
      ]
     },
     "metadata": {
      "needs_background": "light"
     },
     "output_type": "display_data"
    }
   ],
   "source": [
    "plt.plot(data_mix['GVC_position'], lw=1.5, label='GVC_position')\n",
    "plt.plot(data_mix['TPU'], lw=1.5, label='TPU')\n",
    "\n",
    "plt.grid(True)\n",
    "plt.legend()\n",
    "plt.xlabel('index')\n",
    "plt.ylabel('value')\n",
    "plt.title('2 dimensions Plot')"
   ]
  },
  {
   "cell_type": "code",
   "execution_count": 14,
   "metadata": {},
   "outputs": [
    {
     "name": "stderr",
     "output_type": "stream",
     "text": [
      "C:\\ProgramData\\Anaconda2\\lib\\site-packages\\scipy\\stats\\stats.py:1416: UserWarning: kurtosistest only valid for n>=20 ... continuing anyway, n=11\n",
      "  \"anyway, n=%i\" % int(n))\n"
     ]
    },
    {
     "data": {
      "text/html": [
       "<table class=\"simpletable\">\n",
       "<caption>OLS Regression Results</caption>\n",
       "<tr>\n",
       "  <th>Dep. Variable:</th>            <td>y</td>        <th>  R-squared:         </th> <td>   0.066</td>\n",
       "</tr>\n",
       "<tr>\n",
       "  <th>Model:</th>                   <td>OLS</td>       <th>  Adj. R-squared:    </th> <td>  -0.038</td>\n",
       "</tr>\n",
       "<tr>\n",
       "  <th>Method:</th>             <td>Least Squares</td>  <th>  F-statistic:       </th> <td>  0.6356</td>\n",
       "</tr>\n",
       "<tr>\n",
       "  <th>Date:</th>             <td>Thu, 10 Dec 2020</td> <th>  Prob (F-statistic):</th>  <td> 0.446</td> \n",
       "</tr>\n",
       "<tr>\n",
       "  <th>Time:</th>                 <td>15:59:48</td>     <th>  Log-Likelihood:    </th> <td>  15.527</td>\n",
       "</tr>\n",
       "<tr>\n",
       "  <th>No. Observations:</th>      <td>    11</td>      <th>  AIC:               </th> <td>  -27.05</td>\n",
       "</tr>\n",
       "<tr>\n",
       "  <th>Df Residuals:</th>          <td>     9</td>      <th>  BIC:               </th> <td>  -26.26</td>\n",
       "</tr>\n",
       "<tr>\n",
       "  <th>Df Model:</th>              <td>     1</td>      <th>                     </th>     <td> </td>   \n",
       "</tr>\n",
       "<tr>\n",
       "  <th>Covariance Type:</th>      <td>nonrobust</td>    <th>                     </th>     <td> </td>   \n",
       "</tr>\n",
       "</table>\n",
       "<table class=\"simpletable\">\n",
       "<tr>\n",
       "    <td></td>       <th>coef</th>     <th>std err</th>      <th>t</th>      <th>P>|t|</th>  <th>[0.025</th>    <th>0.975]</th>  \n",
       "</tr>\n",
       "<tr>\n",
       "  <th>const</th> <td>   -0.4346</td> <td>    0.415</td> <td>   -1.048</td> <td> 0.322</td> <td>   -1.372</td> <td>    0.503</td>\n",
       "</tr>\n",
       "<tr>\n",
       "  <th>TPU</th>   <td>    0.0528</td> <td>    0.066</td> <td>    0.797</td> <td> 0.446</td> <td>   -0.097</td> <td>    0.203</td>\n",
       "</tr>\n",
       "</table>\n",
       "<table class=\"simpletable\">\n",
       "<tr>\n",
       "  <th>Omnibus:</th>       <td> 1.041</td> <th>  Durbin-Watson:     </th> <td>   0.488</td>\n",
       "</tr>\n",
       "<tr>\n",
       "  <th>Prob(Omnibus):</th> <td> 0.594</td> <th>  Jarque-Bera (JB):  </th> <td>   0.779</td>\n",
       "</tr>\n",
       "<tr>\n",
       "  <th>Skew:</th>          <td>-0.361</td> <th>  Prob(JB):          </th> <td>   0.677</td>\n",
       "</tr>\n",
       "<tr>\n",
       "  <th>Kurtosis:</th>      <td> 1.915</td> <th>  Cond. No.          </th> <td>    135.</td>\n",
       "</tr>\n",
       "</table><br/><br/>Warnings:<br/>[1] Standard Errors assume that the covariance matrix of the errors is correctly specified."
      ],
      "text/plain": [
       "<class 'statsmodels.iolib.summary.Summary'>\n",
       "\"\"\"\n",
       "                            OLS Regression Results                            \n",
       "==============================================================================\n",
       "Dep. Variable:                      y   R-squared:                       0.066\n",
       "Model:                            OLS   Adj. R-squared:                 -0.038\n",
       "Method:                 Least Squares   F-statistic:                    0.6356\n",
       "Date:                Thu, 10 Dec 2020   Prob (F-statistic):              0.446\n",
       "Time:                        15:59:48   Log-Likelihood:                 15.527\n",
       "No. Observations:                  11   AIC:                            -27.05\n",
       "Df Residuals:                       9   BIC:                            -26.26\n",
       "Df Model:                           1                                         \n",
       "Covariance Type:            nonrobust                                         \n",
       "==============================================================================\n",
       "                 coef    std err          t      P>|t|      [0.025      0.975]\n",
       "------------------------------------------------------------------------------\n",
       "const         -0.4346      0.415     -1.048      0.322      -1.372       0.503\n",
       "TPU            0.0528      0.066      0.797      0.446      -0.097       0.203\n",
       "==============================================================================\n",
       "Omnibus:                        1.041   Durbin-Watson:                   0.488\n",
       "Prob(Omnibus):                  0.594   Jarque-Bera (JB):                0.779\n",
       "Skew:                          -0.361   Prob(JB):                        0.677\n",
       "Kurtosis:                       1.915   Cond. No.                         135.\n",
       "==============================================================================\n",
       "\n",
       "Warnings:\n",
       "[1] Standard Errors assume that the covariance matrix of the errors is correctly specified.\n",
       "\"\"\""
      ]
     },
     "execution_count": 14,
     "metadata": {},
     "output_type": "execute_result"
    }
   ],
   "source": [
    "import statsmodels.api as sm\n",
    "x=data_mix['TPU']\n",
    "X=sm.add_constant(x)\n",
    "y=data_mix['GVC_position'].values\n",
    "model=sm.OLS(y,X)\n",
    "results=model.fit()\n",
    "results.summary()"
   ]
  },
  {
   "cell_type": "code",
   "execution_count": 327,
   "metadata": {},
   "outputs": [
    {
     "data": {
      "text/html": [
       "<div>\n",
       "<style scoped>\n",
       "    .dataframe tbody tr th:only-of-type {\n",
       "        vertical-align: middle;\n",
       "    }\n",
       "\n",
       "    .dataframe tbody tr th {\n",
       "        vertical-align: top;\n",
       "    }\n",
       "\n",
       "    .dataframe thead th {\n",
       "        text-align: right;\n",
       "    }\n",
       "</style>\n",
       "<table border=\"1\" class=\"dataframe\">\n",
       "  <thead>\n",
       "    <tr style=\"text-align: right;\">\n",
       "      <th></th>\n",
       "      <th>GVC_position</th>\n",
       "      <th>TPU</th>\n",
       "    </tr>\n",
       "  </thead>\n",
       "  <tbody>\n",
       "    <tr>\n",
       "      <th>0</th>\n",
       "      <td>0.808051</td>\n",
       "      <td>513.755241</td>\n",
       "    </tr>\n",
       "    <tr>\n",
       "      <th>1</th>\n",
       "      <td>0.816295</td>\n",
       "      <td>358.718447</td>\n",
       "    </tr>\n",
       "    <tr>\n",
       "      <th>2</th>\n",
       "      <td>0.843112</td>\n",
       "      <td>373.367746</td>\n",
       "    </tr>\n",
       "    <tr>\n",
       "      <th>3</th>\n",
       "      <td>0.886755</td>\n",
       "      <td>705.571257</td>\n",
       "    </tr>\n",
       "    <tr>\n",
       "      <th>4</th>\n",
       "      <td>0.939703</td>\n",
       "      <td>344.879929</td>\n",
       "    </tr>\n",
       "    <tr>\n",
       "      <th>5</th>\n",
       "      <td>0.914677</td>\n",
       "      <td>740.430591</td>\n",
       "    </tr>\n",
       "    <tr>\n",
       "      <th>6</th>\n",
       "      <td>0.918035</td>\n",
       "      <td>885.743913</td>\n",
       "    </tr>\n",
       "    <tr>\n",
       "      <th>7</th>\n",
       "      <td>0.933244</td>\n",
       "      <td>536.843301</td>\n",
       "    </tr>\n",
       "    <tr>\n",
       "      <th>8</th>\n",
       "      <td>0.937097</td>\n",
       "      <td>427.096163</td>\n",
       "    </tr>\n",
       "    <tr>\n",
       "      <th>9</th>\n",
       "      <td>0.954463</td>\n",
       "      <td>579.195332</td>\n",
       "    </tr>\n",
       "    <tr>\n",
       "      <th>10</th>\n",
       "      <td>0.975192</td>\n",
       "      <td>509.969216</td>\n",
       "    </tr>\n",
       "  </tbody>\n",
       "</table>\n",
       "</div>"
      ],
      "text/plain": [
       "    GVC_position         TPU\n",
       "0       0.808051  513.755241\n",
       "1       0.816295  358.718447\n",
       "2       0.843112  373.367746\n",
       "3       0.886755  705.571257\n",
       "4       0.939703  344.879929\n",
       "5       0.914677  740.430591\n",
       "6       0.918035  885.743913\n",
       "7       0.933244  536.843301\n",
       "8       0.937097  427.096163\n",
       "9       0.954463  579.195332\n",
       "10      0.975192  509.969216"
      ]
     },
     "execution_count": 327,
     "metadata": {},
     "output_type": "execute_result"
    }
   ],
   "source": [
    "data_mix"
   ]
  },
  {
   "cell_type": "code",
   "execution_count": null,
   "metadata": {},
   "outputs": [],
   "source": []
  },
  {
   "cell_type": "code",
   "execution_count": null,
   "metadata": {},
   "outputs": [],
   "source": []
  },
  {
   "cell_type": "code",
   "execution_count": null,
   "metadata": {},
   "outputs": [],
   "source": []
  },
  {
   "cell_type": "code",
   "execution_count": null,
   "metadata": {},
   "outputs": [],
   "source": []
  },
  {
   "cell_type": "code",
   "execution_count": null,
   "metadata": {},
   "outputs": [],
   "source": []
  },
  {
   "cell_type": "code",
   "execution_count": null,
   "metadata": {},
   "outputs": [],
   "source": []
  }
 ],
 "metadata": {
  "kernelspec": {
   "display_name": "Python 2",
   "language": "python",
   "name": "python2"
  },
  "language_info": {
   "codemirror_mode": {
    "name": "ipython",
    "version": 2
   },
   "file_extension": ".py",
   "mimetype": "text/x-python",
   "name": "python",
   "nbconvert_exporter": "python",
   "pygments_lexer": "ipython2",
   "version": "2.7.16"
  }
 },
 "nbformat": 4,
 "nbformat_minor": 2
}
