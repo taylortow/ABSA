{
 "cells": [
  {
   "cell_type": "markdown",
   "metadata": {},
   "source": [
    "# 基于TiVA数据的我国高科技行业全球价值链地位测算"
   ]
  },
  {
   "cell_type": "code",
   "execution_count": 1,
   "metadata": {},
   "outputs": [],
   "source": [
    "import numpy as np\n",
    "import pandas as pd\n",
    "%matplotlib inline\n",
    "import matplotlib.pyplot as plt\n",
    "import warnings; warnings.simplefilter('ignore') \n",
    "import xlrd\n",
    "import xlwt\n",
    "import matplotlib.pyplot as plt\n",
    "import seaborn as sns; \n",
    "%matplotlib inline\n",
    "data1=pd.read_excel('EXGR_D26T27.xlsx')\n",
    "data2=pd.read_excel('EXGR_DVA_D26T27.xlsx')\n",
    "data3=pd.read_excel('EXGR_IDC_D26T27.xlsx')\n",
    "data4=pd.read_excel('EXGR_RIM_D26T27.xlsx')\n",
    "data1.index=data1.iloc[:,0]\n",
    "data1.columns=data1.iloc[5,:]\n",
    "data1=data1.iloc[8:,2:]\n",
    "data1=data1.drop(index=['DXD: Domestic'])\n",
    "data2.index=data2.iloc[:,0]\n",
    "data2.columns=data2.iloc[5,:]\n",
    "data2=data2.iloc[7:,2:]\n",
    "data3.index=data3.iloc[:,0]\n",
    "data3.columns=data3.iloc[5,:]\n",
    "data3=data3.iloc[7:,2:]\n",
    "data4.index=data4.iloc[:,0]\n",
    "data4.columns=data4.iloc[5,:]\n",
    "data4=data4.iloc[7:,2:]\n",
    "index=data1.index\n",
    "columns=data1.columns\n",
    "FV=data2.loc['CHN: China (People\\'s Republic of)']\n",
    "IV=data3.loc['CHN: China (People\\'s Republic of)']+data4.loc['CHN: China (People\\'s Republic of)']\n",
    "E=data1.loc['CHN: China (People\\'s Republic of)']\n",
    "GVC_position=np.zeros((1,11))\n",
    "for i in range(11):\n",
    "    a1=FV[i]\n",
    "    a2=IV[i]\n",
    "    a3=E[i]\n",
    "    GVC_position[0][i]=np.log(1+a1/a3)+np.log(1+a2/a3)\n",
    "    \n"
   ]
  },
  {
   "cell_type": "code",
   "execution_count": 2,
   "metadata": {},
   "outputs": [
    {
     "data": {
      "text/plain": [
       "array([[0.80805121, 0.81629549, 0.84311228, 0.88675488, 0.9397027 ,\n",
       "        0.91467739, 0.91803479, 0.93324369, 0.93709662, 0.9544634 ,\n",
       "        0.97519206]])"
      ]
     },
     "execution_count": 2,
     "metadata": {},
     "output_type": "execute_result"
    }
   ],
   "source": [
    "GVC_position"
   ]
  },
  {
   "cell_type": "code",
   "execution_count": null,
   "metadata": {},
   "outputs": [],
   "source": []
  }
 ],
 "metadata": {
  "kernelspec": {
   "display_name": "Python 2",
   "language": "python",
   "name": "python2"
  },
  "language_info": {
   "codemirror_mode": {
    "name": "ipython",
    "version": 2
   },
   "file_extension": ".py",
   "mimetype": "text/x-python",
   "name": "python",
   "nbconvert_exporter": "python",
   "pygments_lexer": "ipython2",
   "version": "2.7.16"
  }
 },
 "nbformat": 4,
 "nbformat_minor": 2
}
